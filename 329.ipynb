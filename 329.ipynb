{
 "cells": [
  {
   "cell_type": "code",
   "execution_count": 2,
   "metadata": {
    "collapsed": false
   },
   "outputs": [
    {
     "name": "stdout",
     "output_type": "stream",
     "text": [
      "please enter an integer. 3\n",
      "please enter an integer. 3\n",
      "please enter an integer. 3\n",
      "18\n"
     ]
    }
   ],
   "source": [
    "def total (m):\n",
    "    i=0\n",
    "    ntotal=0\n",
    "    while i<m:\n",
    "        i+=1\n",
    "        ntotal+=i\n",
    "    return ntotal\n",
    "m=int(input('please enter an integer. '))\n",
    "n=int(input('please enter an integer. '))\n",
    "k=int(input('please enter an integer. '))\n",
    "\n",
    "sum=total(n)+total(m)+total(k)\n",
    "print(sum)\n"
   ]
  },
  {
   "cell_type": "markdown",
   "metadata": {},
   "source": [
    "练习 1：仿照求$ \\sum_{i=1}^mi + \\sum_{i=1}^ni  + \\sum_{i=1}^ki$的完整代码，写程序，可求m!+n!+k!"
   ]
  },
  {
   "cell_type": "code",
   "execution_count": 11,
   "metadata": {
    "collapsed": false
   },
   "outputs": [
    {
     "name": "stdout",
     "output_type": "stream",
     "text": [
      "please enter an integer. 6\n",
      "please enter an integer. 2\n",
      "please enter an integer. 4\n",
      "The result of  6 !+ 2 !+ 4 ! is : 746\n"
     ]
    }
   ],
   "source": [
    "def total (m):\n",
    "    i=0\n",
    "    result=1\n",
    "    while i<m:\n",
    "        i+=1\n",
    "        result*=i\n",
    "    return result\n",
    "m=int(input('please enter an integer. '))\n",
    "n=int(input('please enter an integer. '))\n",
    "k=int(input('please enter an integer. '))\n",
    "\n",
    "print('The result of ',m,'!+',n,'!+',k,'! is :',total(m)+total(n)+total(k))"
   ]
  },
  {
   "cell_type": "markdown",
   "metadata": {},
   "source": [
    "练习 2：写函数可返回1 - 1/3 + 1/5 - 1/7...的前n项的和。在主程序中，分别令n=1000及100000，打印4倍该函数的和。"
   ]
  },
  {
   "cell_type": "code",
   "execution_count": 17,
   "metadata": {
    "collapsed": false
   },
   "outputs": [
    {
     "name": "stdout",
     "output_type": "stream",
     "text": [
      "please enter an integer. 1000\n",
      "please enter an integer. 100000\n",
      "resoult is : 3.140592653839794\n",
      "resoult is : 3.1415826535897198\n"
     ]
    }
   ],
   "source": [
    "def sum (n):\n",
    "    i=0\n",
    "    total=0\n",
    "    while i<n:\n",
    "        i+=1\n",
    "        if i%2==0:\n",
    "            total-=1/(2*i-1)\n",
    "        else:\n",
    "            total+=1/(2*i-1)\n",
    "    return total\n",
    "n=int(input('please enter an integer. '))\n",
    "m=int(input('please enter an integer. '))\n",
    "\n",
    "print('resoult is :',4*sum(n))\n",
    "print('resoult is :',4*sum(m))"
   ]
  },
  {
   "cell_type": "markdown",
   "metadata": {},
   "source": [
    "练习 3：将task3中的练习1及练习4改写为函数，并进行调用。"
   ]
  },
  {
   "cell_type": "markdown",
   "metadata": {},
   "source": [
    "挑战性练习：写程序，可以求从整数m到整数n累加的和，间隔为k，求和部分需用函数实现，主程序中由用户输入m，n，k调用函数验证正确性。"
   ]
  },
  {
   "cell_type": "code",
   "execution_count": 18,
   "metadata": {
    "collapsed": false
   },
   "outputs": [
    {
     "name": "stdout",
     "output_type": "stream",
     "text": [
      "please enter the from integer :1\n",
      "please enter the to integer : 6\n",
      "please enter the gap :2\n",
      "The result of it is : 16\n"
     ]
    }
   ],
   "source": [
    "def sum (m,n,k):\n",
    "    i=m\n",
    "    total=m\n",
    "    while i<n :\n",
    "        i+=k\n",
    "        total+=i\n",
    "    return total\n",
    "m=int(input('please enter the from integer :'))\n",
    "n=int(input('please enter the to integer : '))\n",
    "k=int(input('please enter the gap :'))\n",
    "\n",
    "print('The result of it is :',sum(m,n,k))\n",
    "        \n",
    "        "
   ]
  }
 ],
 "metadata": {
  "kernelspec": {
   "display_name": "Python 3",
   "language": "python",
   "name": "python3"
  },
  "language_info": {
   "codemirror_mode": {
    "name": "ipython",
    "version": 3
   },
   "file_extension": ".py",
   "mimetype": "text/x-python",
   "name": "python",
   "nbconvert_exporter": "python",
   "pygments_lexer": "ipython3",
   "version": "3.6.0"
  }
 },
 "nbformat": 4,
 "nbformat_minor": 2
}
