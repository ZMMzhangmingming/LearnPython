{
 "cells": [
  {
   "cell_type": "code",
   "execution_count": 17,
   "metadata": {
    "collapsed": false
   },
   "outputs": [
    {
     "name": "stdout",
     "output_type": "stream",
     "text": [
      "Please choose your qizi:choose from 'o' or 'x'\n",
      "x\n"
     ]
    },
    {
     "data": {
      "text/plain": [
       "['x', 'o']"
      ]
     },
     "execution_count": 17,
     "metadata": {},
     "output_type": "execute_result"
    }
   ],
   "source": [
    "def choose ():\n",
    "    player=[]     #xuan qi zi\n",
    "    print('Please choose your qizi:choose from \\'o\\' or \\'x\\'')\n",
    "    ch=input()\n",
    "    player.append(ch)\n",
    "    if player[0]=='o':\n",
    "        player.append('x')\n",
    "    else:\n",
    "        player.append('o')\n",
    "    return player\n",
    "choose()"
   ]
  },
  {
   "cell_type": "code",
   "execution_count": 16,
   "metadata": {
    "collapsed": false
   },
   "outputs": [
    {
     "name": "stdout",
     "output_type": "stream",
     "text": [
      "+ - - - + - - - + - - - +\n",
      "|       |       |       |\n",
      "|   1   |   2   |   3   |\n",
      "|       |       |       |\n",
      "+ - - - + - - - + - - - +\n",
      "|       |       |       |\n",
      "|   4   |   5   |   6   |\n",
      "|       |       |       |\n",
      "+ - - - + - - - + - - - +\n",
      "|       |       |       |\n",
      "|   7   |   8   |   9   |\n",
      "|       |       |       |\n",
      "+ - - - + - - - + - - - +\n"
     ]
    }
   ],
   "source": [
    "# draw the qipan\n",
    "def draw_qipan (board):\n",
    "    print('+ - - - '*3+'+')\n",
    "    for i in range(1,4):\n",
    "        for j in range(1,4):\n",
    "            if j%2==0 :\n",
    "                print('|'+' '*3,board[i*3-2],' '*3 + '|'+' '*3,board[i*3-1] , ' '*3+'|'+' '*3,board[i*3],' '*3+'|',sep='')\n",
    "            else:\n",
    "                print('|'+' '*7+'|'+' '*7+'|'+' '*7+'|')\n",
    "        print('+ - - - '*3+'+')\n",
    "\n",
    "board=[0,1,2,3,4,5,6,7,8,9]\n",
    "draw_qipan(board)"
   ]
  },
  {
   "cell_type": "code",
   "execution_count": null,
   "metadata": {
    "collapsed": true
   },
   "outputs": [],
   "source": [
    "def play (board,player):\n",
    "    draw_qipan()\n",
    "    while(1):\n",
    "        choice=int(input('Please enter the position you choose : '))\n",
    "        if 1=< choice <=9 :\n",
    "            if board[choice]=='x' or board[choice]=='o':\n",
    "                print('the position already has qizi ')\n",
    "                continue\n",
    "            else:\n",
    "                board[choice]=player[turn]\n",
    "                draw_qipan(board)\n",
    "                turn=(turn+1)%2\n",
    "                if  # whowhen ?\n",
    "                if # full ?\n",
    "                \n",
    "        else :\n",
    "            print('please enter the right position')\n",
    "            continue"
   ]
  }
 ],
 "metadata": {
  "kernelspec": {
   "display_name": "Python 3",
   "language": "python",
   "name": "python3"
  },
  "language_info": {
   "codemirror_mode": {
    "name": "ipython",
    "version": 3
   },
   "file_extension": ".py",
   "mimetype": "text/x-python",
   "name": "python",
   "nbconvert_exporter": "python",
   "pygments_lexer": "ipython3",
   "version": "3.6.0"
  }
 },
 "nbformat": 4,
 "nbformat_minor": 2
}
