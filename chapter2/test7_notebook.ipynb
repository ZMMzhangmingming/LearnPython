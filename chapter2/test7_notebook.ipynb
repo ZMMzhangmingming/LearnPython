{
 "cells": [
  {
   "cell_type": "markdown",
   "metadata": {
    "deletable": true,
    "editable": true
   },
   "source": [
    "# 7.2 序列之字符串(str)\n",
    "- 字符串有一串字符组成，每个字符都有一个索引，索引从0开始，字符串是序列的一种，很多使用方法与列表(list)类似，字符串类型的关键字是str。\n",
    "- python提供的内置方法len()不但可得到list对象所含元素个数，其实是可以得到序列对象所含元素个数，当然也包括str对象。\n",
    "- attention! line[1,2,3]  vs line='123'  前为list后为 str\n",
    "- python中的序列对象有加法运算和乘法运算，能够生成新的序列\n",
    "- 形如序列[m:n:i]的操作称为序列切片，就是从序列中取出索引在[m,n)之间，以间隔为i的所有对象，默认i为1。\n",
    "- 如果切片起始或者结束位置为字符串边界，则可以省略。此外，还可以从右向左索引，最右侧边界字符的索引位置为-1，向左依次减小。"
   ]
  },
  {
   "cell_type": "code",
   "execution_count": 3,
   "metadata": {
    "collapsed": false,
    "deletable": true,
    "editable": true
   },
   "outputs": [
    {
     "name": "stdout",
     "output_type": "stream",
     "text": [
      "用str()初始化： True\n",
      "True\n",
      "False\n",
      "a\n",
      "b\n",
      "c\n",
      "d\n",
      "e\n",
      "--------------分隔线----------------\n",
      "0 a\n",
      "1 b\n",
      "2 c\n",
      "3 d\n",
      "4 e\n"
     ]
    }
   ],
   "source": [
    "#字符串有一串字符组成，每个字符都有一个索引，索引从0开始，字符串是序列的一种，很多使用方法与列表(list)类似，字符串类型的关键字是str。\n",
    "line = str()\n",
    "print('用str()初始化：', line == '')\n",
    "\n",
    "line = 'abcde'\n",
    "print('a' in line)\n",
    "print('a' not in line)\n",
    "\n",
    "for ch in line:\n",
    "    print(ch)\n",
    "    \n",
    "print('--------------分隔线----------------')\n",
    "for i in range(5):\n",
    "    print(i, line[i])"
   ]
  },
  {
   "cell_type": "code",
   "execution_count": 4,
   "metadata": {
    "collapsed": false,
    "deletable": true,
    "editable": true
   },
   "outputs": [
    {
     "name": "stdout",
     "output_type": "stream",
     "text": [
      "6\n",
      "7\n",
      "           天\n",
      "          天天\n",
      "         天天天\n",
      "        天天天天\n",
      "       天天天天天\n",
      "      天天天天天天\n",
      "     天天天天天天天\n",
      "    天天天天天天天天\n",
      "   天天天天天天天天天\n",
      "  天天天天天天天天天天\n",
      " 天天天天天天天天天天天\n",
      "天天天天天天天天天天天天\n"
     ]
    }
   ],
   "source": [
    "# python提供的内置方法len()不但可得到list对象所含元素个数，其实是可以得到序列对象所含元素个数，当然也包括str对象。\n",
    "words = ['1','2','3','1','2','3']\n",
    "print(len(words))\n",
    "\n",
    "line = 'abcdefg'\n",
    "print(len(line))\n",
    "\n",
    "#-python中的序列对象有加法运算和乘法运算，能够生成新的序列\n",
    "line = '天天天天天天'\n",
    "for i in range(1, len(line)*2+1):\n",
    "    print((len(line)*2-i)*' ' + line[0]*i, end='')\n",
    "    print()"
   ]
  },
  {
   "cell_type": "code",
   "execution_count": 6,
   "metadata": {
    "collapsed": false,
    "deletable": true,
    "editable": true
   },
   "outputs": [
    {
     "name": "stdout",
     "output_type": "stream",
     "text": [
      "             赏\n",
      "            赏赏\n",
      "           赏花赏\n",
      "          赏花花赏\n",
      "         赏花归花赏\n",
      "        赏花归归花赏\n",
      "       赏花归去归花赏\n",
      "      赏花归去去归花赏\n",
      "     赏花归去马去归花赏\n",
      "    赏花归去马马去归花赏\n",
      "   赏花归去马如马去归花赏\n",
      "  赏花归去马如如马去归花赏\n",
      " 赏花归去马如飞如马去归花赏\n",
      "赏花归去马如飞飞如马去归花赏\n"
     ]
    }
   ],
   "source": [
    "#形如序列[m:n:i]的操作称为序列切片，就是从序列中取出索引在[m,n)之间，以间隔为i的所有对象，默认i为1。\n",
    "#如果切片起始或者结束位置为字符串边界，则可以省略。此外，还可以从右向左索引，最右侧边界字符的索引位置为-1，向左依次减小。\n",
    "line='赏花归去马如飞'\n",
    "\n",
    "for i in range(1,2*len(line)+1):\n",
    "    if i==1:\n",
    "        print(' '*(2*len(line)-i)+line[0])\n",
    "    elif i%2==0 : zhe\n",
    "        print(' '*(2*len(line)-i)+line[:i//2]+line[i//2-1::-1])                      # attention ! 这两个之所以不同是\n",
    "    else:\n",
    "        print(' '*(2*len(line)-i)+line[:i//2+1]+line[i//2-1::-1])                     #因为汉子所占字节与数字不同\n",
    "\n",
    "    "
   ]
  },
  {
   "cell_type": "code",
   "execution_count": 5,
   "metadata": {
    "collapsed": false,
    "deletable": true,
    "editable": true
   },
   "outputs": [
    {
     "name": "stdout",
     "output_type": "stream",
     "text": [
      "             1\n",
      "            11\n",
      "           121\n",
      "          1221\n",
      "         12321\n",
      "        123321\n",
      "       1234321\n",
      "      12344321\n",
      "     123454321\n",
      "    1234554321\n",
      "   12345654321\n",
      "  123456654321\n",
      " 1234567654321\n",
      "12345677654321\n"
     ]
    }
   ],
   "source": [
    "line='1234567'\n",
    "\n",
    "for i in range(1,2*len(line)+1):\n",
    "    if i==1:\n",
    "        print(' '*(2*len(line)-i)+line[0])\n",
    "    elif i%2==0 :\n",
    "        print(' '*(2*len(line)-i)+line[:i//2]+line[i//2-1::-1])\n",
    "    else:\n",
    "        print(' '*(2*len(line)-i)+line[:i//2+1]+line[i//2-1::-1])"
   ]
  },
  {
   "cell_type": "markdown",
   "metadata": {
    "deletable": true,
    "editable": true
   },
   "source": [
    " 7.4 序列之元组(tuple)\n",
    " - python内置类型中，与列表(list)及字符串(str)最相近的序列是元组(tuple)，tuple即为元组的关键字。\n",
    " - 元组(tuple)的初始化与列表(list)类似，元组用()，()也可以省略   输出单个元组元素时语法：  print(line[0],)   print(line[:i//2] + (line[i//2],) + line[i//2-1::-1])\n",
    "\n",
    " - 序列内的对象，可以按照对象个数同时赋值给多个变量/对象，称为解耦。 本段中语句c, a, b= a, b, c，右侧实际上是利用三个变量形成了一个元组，然后解耦，在一行中同时完成了3个变量之间值的交换。\n",
    " - 可见元组的遍历、索引及乘法与列表及字符串类似。"
   ]
  },
  {
   "cell_type": "code",
   "execution_count": 1,
   "metadata": {
    "collapsed": false
   },
   "outputs": [
    {
     "name": "stdout",
     "output_type": "stream",
     "text": [
      "\n",
      "()\n",
      "\n",
      "1\n",
      "1\n",
      "\n",
      "1\n",
      "(1,)\n",
      "(1,)\n",
      "\n"
     ]
    }
   ],
   "source": [
    "numbers = str()\n",
    "print(numbers)\n",
    "numbers = tuple()\n",
    "print(numbers)\n",
    "print()\n",
    "\n",
    "numbers = (1)\n",
    "print(numbers)\n",
    "numbers =str(1)\n",
    "print(numbers)\n",
    "print()\n",
    "\n",
    "numbers = (1,)\n",
    "print(numbers[0])\n",
    "print((numbers[0],))\n",
    "numbers = 1,\n",
    "print(numbers)\n",
    "print()\n"
   ]
  },
  {
   "cell_type": "markdown",
   "metadata": {},
   "source": [
    "- 函数返回多个值，则多个值将以元组的形式返回。同时，元组与列表内的元素还可以是元组或列表，一般称为嵌套。\n",
    "- 提示错误，str对象没有这个方法。其实，不但不能利用append()函数添加对象，也不能通过任何方式改变元组或字符串对象的值。\n",
    "- str与tuple不支持切片赋值，list.remove()也不试用 \n",
    "- remove()是列表的一个方法，可以删除列表中的指定对象，用法为：列表.remove(对象)。\n",
    "- \n",
    "- 综上可见，元组与字符串一旦被初始化，其值就不能被改变，python语言称为不可变数据类型，而类似列表这样的数据类型，初始化后，其值可以改变，就称为可变数据类型。\n",
    "- 一个原因是相同操作时，一般元组比列表速度更快；另外，利用元组的不可变性可以保护某些本来就不打算更改的序列；最后，后续一些数据类型如dict，只能用不可变类型作为键。"
   ]
  },
  {
   "cell_type": "code",
   "execution_count": 3,
   "metadata": {
    "collapsed": false
   },
   "outputs": [
    {
     "name": "stdout",
     "output_type": "stream",
     "text": [
      "(1, 2, 3)\n",
      "('apple', 'banana', 'group')\n",
      "((1, 2, 3), (1, 2, 3))\n"
     ]
    }
   ],
   "source": [
    "def three_return_value():\n",
    "    return 1,2,3\n",
    "print(three_return_value())\n",
    "\n",
    "def three_return_word():\n",
    "    return 'apple','banana','group'\n",
    "print(three_return_word())\n",
    "\n",
    "def two_return_tuple():\n",
    "    a=(1,2,3)\n",
    "    b=(1,2,3)\n",
    "    return a,b\n",
    "\n",
    "print(two_return_tuple())"
   ]
  },
  {
   "cell_type": "code",
   "execution_count": 6,
   "metadata": {
    "collapsed": false
   },
   "outputs": [
    {
     "name": "stdout",
     "output_type": "stream",
     "text": [
      "1\n",
      "4\n",
      "9\n",
      "(1, 2, 3)\n",
      "1\n",
      "2\n",
      "3\n",
      "(4, 5, 6)\n",
      "4\n",
      "5\n",
      "6\n",
      "(7, 8, 9)\n",
      "7\n",
      "8\n",
      "9\n"
     ]
    }
   ],
   "source": [
    "numbers = [(1,2,3), (4,5,6), (7,8,9)]\n",
    "print(numbers[0][0])\n",
    "print(numbers[1][0])\n",
    "print(numbers[2][2])\n",
    "\n",
    "for number in numbers :\n",
    "    print(number)\n",
    "    for num in number :\n",
    "        print(num)"
   ]
  },
  {
   "cell_type": "markdown",
   "metadata": {},
   "source": [
    "- python语言中，赋值就是让一个变量/对象指向一个具体值，即常量，如：number = 10，就是先产生一个常量10，然后让number指向10。当使用变量/对象值运算时候，就取出其指向的常量具体值来参与运算。\n",
    "常量是不可变的，因此如果将number再次赋值，如number = 20，则是先产生一个常量20，然后让number指向20。为变量/对象再次赋值就是更改变量/对象的指向。\n",
    "- id()是一个函数，可以返回一个变量/对象在计算机中的唯一标识，用法是id(对象)，这个唯一标识其实就是对象在计算机(内存)中存放的地址。\n",
    "- python内置浅拷贝方法copy()，可以对可变序列进行浅拷贝复制，用法是：可变序列.copy。\n",
    "- 浅拷贝在拷贝这种嵌套结构(也称为复合结构)时（num=[1,2,[1,2]]），对复合结构内部的结构如序列，并非将其值拷贝，而是仅建立了指向。此时被拷贝对象和新对象虽然指向不同的复合结构，但是这两个复合结构内部，都存在指向相同结构的指向。(若改变内部的[]，仍会改变）"
   ]
  },
  {
   "cell_type": "code",
   "execution_count": 8,
   "metadata": {
    "collapsed": false
   },
   "outputs": [
    {
     "name": "stdout",
     "output_type": "stream",
     "text": [
      "[1, 2, 3, 4, 5]\n",
      "[9, 2, 3, 4, 5]\n"
     ]
    }
   ],
   "source": [
    "#注意此处想只改一的值不改二的值 但发现都改了 \n",
    "numbers_1 = [1,2,3,4,5]\n",
    "numbers_2 = numbers_1\n",
    "print(numbers_2)\n",
    "\n",
    "numbers_1[0] = 9\n",
    "print(numbers_2)"
   ]
  },
  {
   "cell_type": "code",
   "execution_count": 9,
   "metadata": {
    "collapsed": false
   },
   "outputs": [
    {
     "name": "stdout",
     "output_type": "stream",
     "text": [
      "494474302984 494474425736\n",
      "[9, 2, 3, 4, 5] [1, 2, 3, 4, 5]\n"
     ]
    }
   ],
   "source": [
    "numbers_1 = [1,2,3,4,5]\n",
    "numbers_2 = numbers_1.copy()\n",
    "print(id(numbers_1), id(numbers_2))\n",
    "\n",
    "numbers_1[0] = 9\n",
    "print(numbers_1, numbers_2)"
   ]
  },
  {
   "cell_type": "code",
   "execution_count": 10,
   "metadata": {
    "collapsed": false
   },
   "outputs": [
    {
     "name": "stdout",
     "output_type": "stream",
     "text": [
      "494459593288 494459593608\n",
      "[1, 2, 3, 4, [5, 8, 7]] [1, 2, 3, 4, [9, 8, 7]]\n"
     ]
    }
   ],
   "source": [
    "#解决浅拷贝的问题：用deepcopy  语法：copy.deepcopy(list)\n",
    "import copy\n",
    "\n",
    "numbers_1 = [1,2,3,4,[9,8,7]]\n",
    "numbers_2 = copy.deepcopy(numbers_1)\n",
    "print(id(numbers_1), id(numbers_2))\n",
    "\n",
    "numbers_1[4][0] = 5\n",
    "print(numbers_1, numbers_2)"
   ]
  }
 ],
 "metadata": {
  "kernelspec": {
   "display_name": "Python 3",
   "language": "python",
   "name": "python3"
  },
  "language_info": {
   "codemirror_mode": {
    "name": "ipython",
    "version": 3
   },
   "file_extension": ".py",
   "mimetype": "text/x-python",
   "name": "python",
   "nbconvert_exporter": "python",
   "pygments_lexer": "ipython3",
   "version": "3.6.0"
  }
 },
 "nbformat": 4,
 "nbformat_minor": 2
}
