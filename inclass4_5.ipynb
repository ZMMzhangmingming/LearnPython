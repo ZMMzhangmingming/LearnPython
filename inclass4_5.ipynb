{
 "cells": [
  {
   "cell_type": "code",
   "execution_count": 1,
   "metadata": {
    "collapsed": false
   },
   "outputs": [
    {
     "name": "stdout",
     "output_type": "stream",
     "text": [
      "=====游戏菜单=====\n",
      "1. 游戏说明\n",
      "2. 开始游戏\n",
      "3. 退出游戏\n",
      "4. 制作团队\n",
      "=====游戏菜单=====\n"
     ]
    }
   ],
   "source": [
    "def menu ():\n",
    "    print('=====游戏菜单=====')\n",
    "    print('1. 游戏说明')\n",
    "    print('2. 开始游戏')\n",
    "    print('3. 退出游戏')\n",
    "    print('4. 制作团队')\n",
    "    print('=====游戏菜单=====')\n",
    "    \n",
    "menu()"
   ]
  },
  {
   "cell_type": "code",
   "execution_count": 5,
   "metadata": {
    "collapsed": false
   },
   "outputs": [
    {
     "name": "stdout",
     "output_type": "stream",
     "text": [
      "=====游戏菜单=====\n",
      "1. 游戏说明\n",
      "2. 开始游戏\n",
      "3. 退出游戏\n",
      "4. 制作团队\n",
      "=====游戏菜单=====\n"
     ]
    }
   ],
   "source": [
    "def menu ():\n",
    "   print('''=====游戏菜单=====\n",
    "1. 游戏说明\n",
    "2. 开始游戏\n",
    "3. 退出游戏\n",
    "4. 制作团队\n",
    "=====游戏菜单=====''')\n",
    "   \n",
    "    \n",
    "menu()"
   ]
  },
  {
   "cell_type": "code",
   "execution_count": 10,
   "metadata": {
    "collapsed": false
   },
   "outputs": [
    {
     "name": "stdout",
     "output_type": "stream",
     "text": [
      "100\n",
      "150\n",
      "OK\n"
     ]
    }
   ],
   "source": [
    "print(100\n",
    "    \n",
    "     )\n",
    "a=(5+\n",
    "   10)*10\n",
    "print(a)\n",
    "b=1\n",
    "\n",
    "def test(a,\n",
    "                    b):\n",
    "    print('OK')\n",
    "    \n",
    "test(a, \n",
    "        b)\n"
   ]
  },
  {
   "cell_type": "markdown",
   "metadata": {},
   "source": [
    "# 多行字符串表示的基本格式如下："
   ]
  },
  {
   "cell_type": "code",
   "execution_count": 19,
   "metadata": {
    "collapsed": false
   },
   "outputs": [
    {
     "name": "stdout",
     "output_type": "stream",
     "text": [
      " \n",
      "            字符行1\n",
      "            字符行2\n",
      "            字符行3\n",
      "            \n",
      " \n",
      "    字符一\n",
      "    字符二\n",
      "    字符三\n"
     ]
    }
   ],
   "source": [
    "ex_string=''' \n",
    "            字符行1\n",
    "            字符行2\n",
    "            字符行3\n",
    "            '''\n",
    "print(ex_string)\n",
    "\n",
    "print(''' \n",
    "    字符一\n",
    "    字符二\n",
    "    字符三''')\n"
   ]
  },
  {
   "cell_type": "code",
   "execution_count": 14,
   "metadata": {
    "collapsed": false
   },
   "outputs": [
    {
     "name": "stdout",
     "output_type": "stream",
     "text": [
      "\n",
      "           ======欢迎来到猜数游戏=======\n",
      "        \n",
      "                     /  \\     ,    ,\n",
      "           _._     _ |oo| _  / \\__/     \n",
      "          _||||   ((/ () \\))   /       \n",
      "          |||||/|  ( ==== )    |oo|    \n",
      "           \\____/  _`\\  /'_    /       \n",
      "           /   /.-' /\\<>/\\ `\\.( () )_._      \n",
      "           |    `  /  \\/  \\  /`'--'////)\n",
      "            \\__,-'`|  |.  |\\/ |/\\/\\|\"\"` \n",
      "                   |  |.  | \\___/\\___/  \n",
      "                   |  |.  |   |    |\n",
      "          \n",
      "          ======欢迎来到猜数游戏=======\n",
      "        \n"
     ]
    }
   ],
   "source": [
    "def welcome ():\n",
    "    print(\n",
    "        '''\n",
    "           ======欢迎来到猜数游戏=======\n",
    "        \n",
    "                     /  \\     ,    ,\n",
    "           _._     _ |oo| _  / \\__/ \\\n",
    "    \n",
    "          _||||   ((/ () \\))   /   \\\n",
    "    \n",
    "          |||||/|  ( ==== )    |oo|    \n",
    "           \\____/  _`\\  /'_    /   \\\n",
    "    \n",
    "           /   /.-' /\\<>/\\ `\\.( () )_._      \n",
    "           |    `  /  \\/  \\  /`'--'////)\n",
    "            \\__,-'`|  |.  |\\/ |/\\/\\|\"\\\"` \n",
    "                   |  |.  | \\___/\\___/  \n",
    "                   |  |.  |   |    |\n",
    "          \n",
    "          ======欢迎来到猜数游戏=======\n",
    "        ''')\n",
    "welcome()"
   ]
  },
  {
   "cell_type": "code",
   "execution_count": 26,
   "metadata": {
    "collapsed": false
   },
   "outputs": [
    {
     "name": "stdout",
     "output_type": "stream",
     "text": [
      "\n",
      "           ======恭喜你，你赢了=======\n",
      "        \n",
      "    \n",
      "                .\"\".    .\"\",\n",
      "                |  |   /  /\n",
      "                |  |  /  /\n",
      "                |  | /  /\n",
      "                |  |/  ;-._ \n",
      "                }  ` _/  / ;\n",
      "                |  /` ) /  /\n",
      "                | /  /_/\\_/                |/  /      |\n",
      "                (  ' \\ '-  |\n",
      "                 \\    `.  /\n",
      "                  |      |\n",
      "                  |      |\n",
      "          \n",
      "          ======恭喜你，你赢了=======\n",
      "        \n"
     ]
    }
   ],
   "source": [
    "def win():\n",
    "    print(\n",
    "        '''\n",
    "           ======恭喜你，你赢了=======\n",
    "        \n",
    "    \n",
    "                .\"\".    .\"\",\n",
    "                |  |   /  /\n",
    "                |  |  /  /\n",
    "                |  | /  /\n",
    "                |  |/  ;-._ \n",
    "                }  ` _/  / ;\n",
    "                |  /` ) /  /\n",
    "                | /  /_/\\_/\\\n",
    "                |/  /      |\n",
    "                (  ' \\ '-  |\n",
    "                 \\    `.  /\n",
    "                  |      |\n",
    "                  |      |\n",
    "          \n",
    "          ======恭喜你，你赢了=======\n",
    "        '''\n",
    "    )\n",
    "win()"
   ]
  },
  {
   "cell_type": "code",
   "execution_count": 27,
   "metadata": {
    "collapsed": false
   },
   "outputs": [
    {
     "name": "stdout",
     "output_type": "stream",
     "text": [
      "\n",
      "           ======YOU LOSE=======\n",
      "        \n",
      "    \n",
      "                \n",
      "\n",
      "                   .-\"      \"-.\n",
      "                  /                             |              |\n",
      "                 |,  .-.  .-.  ,|\n",
      "                 | )(__/  \\__)( |\n",
      "                 |/     /\\     \\|\n",
      "       (@_       (_     ^^     _)\n",
      "  _     ) \\_______\\__|IIIIII|__/__________________________\n",
      " (_)@8@8{}<________|-\\IIIIII/-|___________________________>\n",
      "        )_/        \\          /\n",
      "       (@           `--------`\n",
      "       \n",
      "       \n",
      "       \n",
      "          ======YOU LOSE=======\n",
      "        \n"
     ]
    }
   ],
   "source": [
    "def lose():\n",
    "    print(\n",
    "        '''\n",
    "           ======YOU LOSE=======\n",
    "        \n",
    "    \n",
    "                \n",
    "\n",
    "                   .-\"      \"-.\n",
    "                  /            \\\n",
    "                 |              |\n",
    "                 |,  .-.  .-.  ,|\n",
    "                 | )(__/  \\__)( |\n",
    "                 |/     /\\     \\|\n",
    "       (@_       (_     ^^     _)\n",
    "  _     ) \\_______\\__|IIIIII|__/__________________________\n",
    " (_)@8@8{}<________|-\\IIIIII/-|___________________________>\n",
    "        )_/        \\          /\n",
    "       (@           `--------`\n",
    "       \n",
    "       \n",
    "       \n",
    "          ======YOU LOSE=======\n",
    "        '''\n",
    "    )\n",
    "lose()"
   ]
  },
  {
   "cell_type": "code",
   "execution_count": 25,
   "metadata": {
    "collapsed": false
   },
   "outputs": [
    {
     "name": "stdout",
     "output_type": "stream",
     "text": [
      "\n",
      "           ======GAME OVER=======\n",
      "        \n",
      "             _________ \n",
      "            / ======= \\ \n",
      "           / __________\\ \n",
      "          | ___________ | \n",
      "          | | -       | | \n",
      "          | |         | | \n",
      "          | |_________| |________________ \n",
      "          \\=____________/                ) \n",
      "          / \"\"\"\"\"\"\"\"\"\"\" \\               / \n",
      "         / ::::::::::::: \\          =D-' \n",
      "        (_________________) \n",
      "\n",
      "       \n",
      "          ======GAME OVER=======\n",
      "        \n"
     ]
    }
   ],
   "source": [
    "def game_over():\n",
    "    print(\n",
    "        '''\n",
    "           ======GAME OVER=======\n",
    "        \n",
    "             _________ \n",
    "            / ======= \\ \n",
    "           / __________\\ \n",
    "          | ___________ | \n",
    "          | | -       | | \n",
    "          | |         | | \n",
    "          | |_________| |________________ \n",
    "          \\=____________/                ) \n",
    "          / \"\"\"\"\"\"\"\"\"\"\" \\               / \n",
    "         / ::::::::::::: \\          =D-' \n",
    "        (_________________) \n",
    "\n",
    "       \n",
    "          ======GAME OVER=======\n",
    "        '''\n",
    "    )\n",
    "game_over()"
   ]
  },
  {
   "cell_type": "code",
   "execution_count": 35,
   "metadata": {
    "collapsed": false
   },
   "outputs": [
    {
     "name": "stdout",
     "output_type": "stream",
     "text": [
      "16\n",
      "12\n"
     ]
    }
   ],
   "source": [
    "import random\n",
    "def test1():\n",
    "    num=random.randint(1,100)\n",
    "    print(num)\n",
    "def test2():\n",
    "    num=random.randint(1,100)\n",
    "    print(num)\n",
    "test1()\n",
    "test2()"
   ]
  },
  {
   "cell_type": "code",
   "execution_count": 37,
   "metadata": {
    "collapsed": false
   },
   "outputs": [
    {
     "name": "stdout",
     "output_type": "stream",
     "text": [
      "6.0\n"
     ]
    }
   ],
   "source": [
    "import math \n",
    "\n",
    "def max_times():\n",
    "    times=math.log2(64)\n",
    "    print( times)\n",
    "\n",
    "max_times()\n"
   ]
  },
  {
   "cell_type": "code",
   "execution_count": 41,
   "metadata": {
    "collapsed": false
   },
   "outputs": [
    {
     "name": "stdout",
     "output_type": "stream",
     "text": [
      "请输入一个大于0的整数，作为神秘整数的上界，回车结束。10\n",
      "please enter you guss number5\n",
      "一共可以猜 4 次\n",
      "你已经猜了 1 次\n",
      "抱歉，你猜大了\n",
      "please enter you guss number2\n",
      "一共可以猜 4 次\n",
      "你已经猜了 2 次\n",
      "抱歉，你猜小了\n",
      "please enter you guss number3\n",
      "一共可以猜 4 次\n",
      "你已经猜了 3 次\n",
      "win!\n",
      "神秘数字是： 3\n",
      "你比标准次数少 1 次\n"
     ]
    }
   ],
   "source": [
    "import random,math\n",
    "def win():\n",
    "    print('win!')\n",
    "def lose():\n",
    "    print('lose!')\n",
    "def guss_game():\n",
    "    n=int(input('请输入一个大于0的整数，作为神秘整数的上界，回车结束。'))\n",
    "    max_times=math.ceil(math.log2(n))\n",
    "    num=random.randint(1,n)\n",
    "    times=0\n",
    "    while times<=max_times:\n",
    "        g_num=int(input('please enter you guss number'))\n",
    "        times+=1\n",
    "        print('一共可以猜', max_times, '次')\n",
    "        print('你已经猜了', times, '次')\n",
    "        if g_num==num :\n",
    "            win()\n",
    "            print('神秘数字是：',g_num)\n",
    "            print('你比标准次数少', max_times-times, '次')\n",
    "            break\n",
    "        elif g_num>num :\n",
    "            print('抱歉，你猜大了')\n",
    "        else:\n",
    "            print('抱歉，你猜小了')\n",
    "    else:\n",
    "        print('神秘数字是：', num)\n",
    "        lose()\n",
    "            \n",
    "guss_game()    "
   ]
  },
  {
   "cell_type": "code",
   "execution_count": null,
   "metadata": {
    "collapsed": true
   },
   "outputs": [],
   "source": []
  }
 ],
 "metadata": {
  "kernelspec": {
   "display_name": "Python 3",
   "language": "python",
   "name": "python3"
  },
  "language_info": {
   "codemirror_mode": {
    "name": "ipython",
    "version": 3
   },
   "file_extension": ".py",
   "mimetype": "text/x-python",
   "name": "python",
   "nbconvert_exporter": "python",
   "pygments_lexer": "ipython3",
   "version": "3.6.0"
  }
 },
 "nbformat": 4,
 "nbformat_minor": 2
}
